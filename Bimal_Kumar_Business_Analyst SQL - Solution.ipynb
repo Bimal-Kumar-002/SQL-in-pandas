{
 "cells": [
  {
   "cell_type": "markdown",
   "metadata": {},
   "source": [
    "# Basic details\n",
    "## Internshala -Fragma Data Systems | Business Analyst SQL - Solution\n",
    "##### Name     : Bimal Kumar\n",
    "#####  Email Id : bimal.kumar.mrb@gmail.com\n",
    "#####  Mob No   : +91-9006212962\n",
    "#####  Linkedin : [bimal-kumar](https://www.linkedin.com/in/bimal-kumar-5a6b8a157/)"
   ]
  },
  {
   "cell_type": "code",
   "execution_count": 21,
   "metadata": {},
   "outputs": [],
   "source": [
    "import pandas as pd\n",
    "import pandasql as psql\n",
    "from pandasql import sqldf"
   ]
  },
  {
   "cell_type": "code",
   "execution_count": 22,
   "metadata": {},
   "outputs": [],
   "source": [
    "data_dict = {\n",
    "    \"mesg_trn_no\":['TF1005','TF1006','TF1005','TF1005','TF1006'],\n",
    "    \"Mesg_type\":[700,710,710,707,707],\n",
    "    \"Field_code\": [50,59,59,50,59],\n",
    "    \"Field_value\": ['CVC','PVC','Mahindra','Mahindra','AVON'],\n",
    "    \"mesg_crea_date_time\": ['10/10/2020','1/09/2020','12/10/2020','12/11/2020','17/11/2020']\n",
    "}"
   ]
  },
  {
   "cell_type": "code",
   "execution_count": 23,
   "metadata": {},
   "outputs": [],
   "source": [
    "df = pd.DataFrame(data_dict)"
   ]
  },
  {
   "cell_type": "code",
   "execution_count": 24,
   "metadata": {},
   "outputs": [],
   "source": [
    "df['mesg_crea_date_time'] = pd.to_datetime(df['mesg_crea_date_time'])"
   ]
  },
  {
   "cell_type": "code",
   "execution_count": 25,
   "metadata": {},
   "outputs": [
    {
     "data": {
      "text/html": [
       "<div>\n",
       "<style scoped>\n",
       "    .dataframe tbody tr th:only-of-type {\n",
       "        vertical-align: middle;\n",
       "    }\n",
       "\n",
       "    .dataframe tbody tr th {\n",
       "        vertical-align: top;\n",
       "    }\n",
       "\n",
       "    .dataframe thead th {\n",
       "        text-align: right;\n",
       "    }\n",
       "</style>\n",
       "<table border=\"1\" class=\"dataframe\">\n",
       "  <thead>\n",
       "    <tr style=\"text-align: right;\">\n",
       "      <th></th>\n",
       "      <th>mesg_trn_no</th>\n",
       "      <th>Mesg_type</th>\n",
       "      <th>Field_code</th>\n",
       "      <th>Field_value</th>\n",
       "      <th>mesg_crea_date_time</th>\n",
       "    </tr>\n",
       "  </thead>\n",
       "  <tbody>\n",
       "    <tr>\n",
       "      <th>0</th>\n",
       "      <td>TF1005</td>\n",
       "      <td>700</td>\n",
       "      <td>50</td>\n",
       "      <td>CVC</td>\n",
       "      <td>2020-10-10</td>\n",
       "    </tr>\n",
       "    <tr>\n",
       "      <th>1</th>\n",
       "      <td>TF1006</td>\n",
       "      <td>710</td>\n",
       "      <td>59</td>\n",
       "      <td>PVC</td>\n",
       "      <td>2020-01-09</td>\n",
       "    </tr>\n",
       "    <tr>\n",
       "      <th>2</th>\n",
       "      <td>TF1005</td>\n",
       "      <td>710</td>\n",
       "      <td>59</td>\n",
       "      <td>Mahindra</td>\n",
       "      <td>2020-12-10</td>\n",
       "    </tr>\n",
       "    <tr>\n",
       "      <th>3</th>\n",
       "      <td>TF1005</td>\n",
       "      <td>707</td>\n",
       "      <td>50</td>\n",
       "      <td>Mahindra</td>\n",
       "      <td>2020-12-11</td>\n",
       "    </tr>\n",
       "    <tr>\n",
       "      <th>4</th>\n",
       "      <td>TF1006</td>\n",
       "      <td>707</td>\n",
       "      <td>59</td>\n",
       "      <td>AVON</td>\n",
       "      <td>2020-11-17</td>\n",
       "    </tr>\n",
       "  </tbody>\n",
       "</table>\n",
       "</div>"
      ],
      "text/plain": [
       "  mesg_trn_no  Mesg_type  Field_code Field_value mesg_crea_date_time\n",
       "0      TF1005        700          50         CVC          2020-10-10\n",
       "1      TF1006        710          59         PVC          2020-01-09\n",
       "2      TF1005        710          59    Mahindra          2020-12-10\n",
       "3      TF1005        707          50    Mahindra          2020-12-11\n",
       "4      TF1006        707          59        AVON          2020-11-17"
      ]
     },
     "execution_count": 25,
     "metadata": {},
     "output_type": "execute_result"
    }
   ],
   "source": [
    "df"
   ]
  },
  {
   "cell_type": "markdown",
   "metadata": {},
   "source": [
    "# SQL Query\n",
    "### Find the latest Field_value of Field_code for each mesg_trn_no."
   ]
  },
  {
   "cell_type": "code",
   "execution_count": 26,
   "metadata": {},
   "outputs": [],
   "source": [
    "pysqldf = lambda q: sqldf(q, globals())"
   ]
  },
  {
   "cell_type": "code",
   "execution_count": 27,
   "metadata": {},
   "outputs": [],
   "source": [
    "query1= \"\"\"\n",
    "        SELECT *\n",
    "        FROM(SELECT mesg_trn_no,Field_code, Field_value,mesg_crea_date_time\n",
    "            FROM df\n",
    "            ORDER BY mesg_crea_date_time DESC)\n",
    "        GROUP BY mesg_trn_no \n",
    "        \"\"\""
   ]
  },
  {
   "cell_type": "code",
   "execution_count": 28,
   "metadata": {},
   "outputs": [
    {
     "name": "stdout",
     "output_type": "stream",
     "text": [
      "  mesg_trn_no  Field_code Field_value         mesg_crea_date_time\n",
      "0      TF1005          50    Mahindra  2020-12-11 00:00:00.000000\n",
      "1      TF1006          59        AVON  2020-11-17 00:00:00.000000\n"
     ]
    }
   ],
   "source": [
    "print(pysqldf(query1))"
   ]
  },
  {
   "cell_type": "code",
   "execution_count": 29,
   "metadata": {},
   "outputs": [],
   "source": [
    "data_dict1 = {\n",
    "    'ID':[1002,1003,1004,1005],\n",
    "    'queuename': ['Maker','Checker','Exception','Exception'],\n",
    "    'entrydate': ['1/10/2020','2/10/2020','17/11/2020','15/11/2020']\n",
    "}"
   ]
  },
  {
   "cell_type": "code",
   "execution_count": 30,
   "metadata": {},
   "outputs": [],
   "source": [
    "case_details = pd.DataFrame(data_dict1)"
   ]
  },
  {
   "cell_type": "code",
   "execution_count": 31,
   "metadata": {},
   "outputs": [],
   "source": [
    "data_dict2 = {\n",
    "    'ID':['1005','1004','1004','1005'],\n",
    "    'queuename':['Exception','Exception','Exception','Exception'],\n",
    "    'exception_comment':['ID card missed','signature mismatch','ID missed','Signature mismatch'],\n",
    "    'actiondate':['4/09/2020','1/09/2020','17/11/2020','15/11/2020'] \n",
    "}"
   ]
  },
  {
   "cell_type": "code",
   "execution_count": 32,
   "metadata": {},
   "outputs": [],
   "source": [
    "exceptionview = pd.DataFrame(data_dict2)"
   ]
  },
  {
   "cell_type": "code",
   "execution_count": 33,
   "metadata": {},
   "outputs": [],
   "source": [
    "case_details['entrydate'] = pd.to_datetime(case_details['entrydate'])"
   ]
  },
  {
   "cell_type": "code",
   "execution_count": 34,
   "metadata": {},
   "outputs": [],
   "source": [
    "exceptionview['actiondate'] = pd.to_datetime(exceptionview['actiondate'])"
   ]
  },
  {
   "cell_type": "code",
   "execution_count": 35,
   "metadata": {},
   "outputs": [
    {
     "data": {
      "text/html": [
       "<div>\n",
       "<style scoped>\n",
       "    .dataframe tbody tr th:only-of-type {\n",
       "        vertical-align: middle;\n",
       "    }\n",
       "\n",
       "    .dataframe tbody tr th {\n",
       "        vertical-align: top;\n",
       "    }\n",
       "\n",
       "    .dataframe thead th {\n",
       "        text-align: right;\n",
       "    }\n",
       "</style>\n",
       "<table border=\"1\" class=\"dataframe\">\n",
       "  <thead>\n",
       "    <tr style=\"text-align: right;\">\n",
       "      <th></th>\n",
       "      <th>ID</th>\n",
       "      <th>queuename</th>\n",
       "      <th>exception_comment</th>\n",
       "      <th>actiondate</th>\n",
       "    </tr>\n",
       "  </thead>\n",
       "  <tbody>\n",
       "    <tr>\n",
       "      <th>0</th>\n",
       "      <td>1005</td>\n",
       "      <td>Exception</td>\n",
       "      <td>ID card missed</td>\n",
       "      <td>2020-04-09</td>\n",
       "    </tr>\n",
       "    <tr>\n",
       "      <th>1</th>\n",
       "      <td>1004</td>\n",
       "      <td>Exception</td>\n",
       "      <td>signature mismatch</td>\n",
       "      <td>2020-01-09</td>\n",
       "    </tr>\n",
       "    <tr>\n",
       "      <th>2</th>\n",
       "      <td>1004</td>\n",
       "      <td>Exception</td>\n",
       "      <td>ID missed</td>\n",
       "      <td>2020-11-17</td>\n",
       "    </tr>\n",
       "    <tr>\n",
       "      <th>3</th>\n",
       "      <td>1005</td>\n",
       "      <td>Exception</td>\n",
       "      <td>Signature mismatch</td>\n",
       "      <td>2020-11-15</td>\n",
       "    </tr>\n",
       "  </tbody>\n",
       "</table>\n",
       "</div>"
      ],
      "text/plain": [
       "     ID  queuename   exception_comment actiondate\n",
       "0  1005  Exception      ID card missed 2020-04-09\n",
       "1  1004  Exception  signature mismatch 2020-01-09\n",
       "2  1004  Exception           ID missed 2020-11-17\n",
       "3  1005  Exception  Signature mismatch 2020-11-15"
      ]
     },
     "execution_count": 35,
     "metadata": {},
     "output_type": "execute_result"
    }
   ],
   "source": [
    "exceptionview"
   ]
  },
  {
   "cell_type": "code",
   "execution_count": 36,
   "metadata": {},
   "outputs": [
    {
     "data": {
      "text/html": [
       "<div>\n",
       "<style scoped>\n",
       "    .dataframe tbody tr th:only-of-type {\n",
       "        vertical-align: middle;\n",
       "    }\n",
       "\n",
       "    .dataframe tbody tr th {\n",
       "        vertical-align: top;\n",
       "    }\n",
       "\n",
       "    .dataframe thead th {\n",
       "        text-align: right;\n",
       "    }\n",
       "</style>\n",
       "<table border=\"1\" class=\"dataframe\">\n",
       "  <thead>\n",
       "    <tr style=\"text-align: right;\">\n",
       "      <th></th>\n",
       "      <th>ID</th>\n",
       "      <th>queuename</th>\n",
       "      <th>entrydate</th>\n",
       "    </tr>\n",
       "  </thead>\n",
       "  <tbody>\n",
       "    <tr>\n",
       "      <th>0</th>\n",
       "      <td>1002</td>\n",
       "      <td>Maker</td>\n",
       "      <td>2020-01-10</td>\n",
       "    </tr>\n",
       "    <tr>\n",
       "      <th>1</th>\n",
       "      <td>1003</td>\n",
       "      <td>Checker</td>\n",
       "      <td>2020-02-10</td>\n",
       "    </tr>\n",
       "    <tr>\n",
       "      <th>2</th>\n",
       "      <td>1004</td>\n",
       "      <td>Exception</td>\n",
       "      <td>2020-11-17</td>\n",
       "    </tr>\n",
       "    <tr>\n",
       "      <th>3</th>\n",
       "      <td>1005</td>\n",
       "      <td>Exception</td>\n",
       "      <td>2020-11-15</td>\n",
       "    </tr>\n",
       "  </tbody>\n",
       "</table>\n",
       "</div>"
      ],
      "text/plain": [
       "     ID  queuename  entrydate\n",
       "0  1002      Maker 2020-01-10\n",
       "1  1003    Checker 2020-02-10\n",
       "2  1004  Exception 2020-11-17\n",
       "3  1005  Exception 2020-11-15"
      ]
     },
     "execution_count": 36,
     "metadata": {},
     "output_type": "execute_result"
    }
   ],
   "source": [
    "case_details "
   ]
  },
  {
   "cell_type": "markdown",
   "metadata": {},
   "source": [
    "# SQL Query\n",
    "     Find the exact exception_comment for the ids in \"Exception\" queuename of case_details table.\n",
    "     The final output must contain all the columns from case_details\n",
    "     Fill the \"exception_comment\" with \"NA\" where not available.\n"
   ]
  },
  {
   "cell_type": "code",
   "execution_count": 37,
   "metadata": {},
   "outputs": [],
   "source": [
    "query2 = \"\"\"\n",
    "        SELECT ID,queuename,COALESCE(exception_comment,'NA') AS exception_comment ,entrydate\n",
    "        \n",
    "        FROM (SELECT *\n",
    "        FROM case_details\n",
    "        LEFT JOIN exceptionview ON case_details.entrydate= exceptionview.actiondate\n",
    "        ORDER BY case_details.ID DESC) AS join_table\n",
    "        \"\"\""
   ]
  },
  {
   "cell_type": "code",
   "execution_count": 38,
   "metadata": {},
   "outputs": [
    {
     "data": {
      "text/html": [
       "<div>\n",
       "<style scoped>\n",
       "    .dataframe tbody tr th:only-of-type {\n",
       "        vertical-align: middle;\n",
       "    }\n",
       "\n",
       "    .dataframe tbody tr th {\n",
       "        vertical-align: top;\n",
       "    }\n",
       "\n",
       "    .dataframe thead th {\n",
       "        text-align: right;\n",
       "    }\n",
       "</style>\n",
       "<table border=\"1\" class=\"dataframe\">\n",
       "  <thead>\n",
       "    <tr style=\"text-align: right;\">\n",
       "      <th></th>\n",
       "      <th>ID</th>\n",
       "      <th>queuename</th>\n",
       "      <th>exception_comment</th>\n",
       "      <th>entrydate</th>\n",
       "    </tr>\n",
       "  </thead>\n",
       "  <tbody>\n",
       "    <tr>\n",
       "      <th>0</th>\n",
       "      <td>1005</td>\n",
       "      <td>Exception</td>\n",
       "      <td>Signature mismatch</td>\n",
       "      <td>2020-11-15 00:00:00.000000</td>\n",
       "    </tr>\n",
       "    <tr>\n",
       "      <th>1</th>\n",
       "      <td>1004</td>\n",
       "      <td>Exception</td>\n",
       "      <td>ID missed</td>\n",
       "      <td>2020-11-17 00:00:00.000000</td>\n",
       "    </tr>\n",
       "    <tr>\n",
       "      <th>2</th>\n",
       "      <td>1003</td>\n",
       "      <td>Checker</td>\n",
       "      <td>NA</td>\n",
       "      <td>2020-02-10 00:00:00.000000</td>\n",
       "    </tr>\n",
       "    <tr>\n",
       "      <th>3</th>\n",
       "      <td>1002</td>\n",
       "      <td>Maker</td>\n",
       "      <td>NA</td>\n",
       "      <td>2020-01-10 00:00:00.000000</td>\n",
       "    </tr>\n",
       "  </tbody>\n",
       "</table>\n",
       "</div>"
      ],
      "text/plain": [
       "     ID  queuename   exception_comment                   entrydate\n",
       "0  1005  Exception  Signature mismatch  2020-11-15 00:00:00.000000\n",
       "1  1004  Exception           ID missed  2020-11-17 00:00:00.000000\n",
       "2  1003    Checker                  NA  2020-02-10 00:00:00.000000\n",
       "3  1002      Maker                  NA  2020-01-10 00:00:00.000000"
      ]
     },
     "execution_count": 38,
     "metadata": {},
     "output_type": "execute_result"
    }
   ],
   "source": [
    "pysqldf(query2)"
   ]
  },
  {
   "cell_type": "code",
   "execution_count": 39,
   "metadata": {},
   "outputs": [],
   "source": [
    "data_dict3 = {\n",
    "    'cif_no':['068974561','067897945','052345689'],\n",
    "    'Debit_card':['123456768989','560889767867','454578982324']\n",
    "}"
   ]
  },
  {
   "cell_type": "code",
   "execution_count": 40,
   "metadata": {},
   "outputs": [],
   "source": [
    "MyTable = pd.DataFrame(data_dict3)\n",
    "#MyTable['Ac_No'] = MyTable['Debit_card'].apply(lambda x:x[:4]+'XXXX'+ x[-4:])"
   ]
  },
  {
   "cell_type": "code",
   "execution_count": 48,
   "metadata": {},
   "outputs": [],
   "source": [
    "query3= \"\"\"\n",
    "    SELECT Substr(Debit_card,1,4)||'XXXX' ||Substr(Debit_card,-4) as debit_card_No\n",
    "    FROM MyTable\n",
    "   \"\"\""
   ]
  },
  {
   "cell_type": "code",
   "execution_count": 49,
   "metadata": {},
   "outputs": [
    {
     "data": {
      "text/html": [
       "<div>\n",
       "<style scoped>\n",
       "    .dataframe tbody tr th:only-of-type {\n",
       "        vertical-align: middle;\n",
       "    }\n",
       "\n",
       "    .dataframe tbody tr th {\n",
       "        vertical-align: top;\n",
       "    }\n",
       "\n",
       "    .dataframe thead th {\n",
       "        text-align: right;\n",
       "    }\n",
       "</style>\n",
       "<table border=\"1\" class=\"dataframe\">\n",
       "  <thead>\n",
       "    <tr style=\"text-align: right;\">\n",
       "      <th></th>\n",
       "      <th>debit_card_No</th>\n",
       "    </tr>\n",
       "  </thead>\n",
       "  <tbody>\n",
       "    <tr>\n",
       "      <th>0</th>\n",
       "      <td>1234XXXX8989</td>\n",
       "    </tr>\n",
       "    <tr>\n",
       "      <th>1</th>\n",
       "      <td>5608XXXX7867</td>\n",
       "    </tr>\n",
       "    <tr>\n",
       "      <th>2</th>\n",
       "      <td>4545XXXX2324</td>\n",
       "    </tr>\n",
       "  </tbody>\n",
       "</table>\n",
       "</div>"
      ],
      "text/plain": [
       "  debit_card_No\n",
       "0  1234XXXX8989\n",
       "1  5608XXXX7867\n",
       "2  4545XXXX2324"
      ]
     },
     "execution_count": 49,
     "metadata": {},
     "output_type": "execute_result"
    }
   ],
   "source": [
    "pysqldf(query3)"
   ]
  },
  {
   "cell_type": "markdown",
   "metadata": {},
   "source": [
    "## Pure SQL query"
   ]
  },
  {
   "cell_type": "code",
   "execution_count": 43,
   "metadata": {},
   "outputs": [],
   "source": [
    "import sqlite3"
   ]
  },
  {
   "cell_type": "code",
   "execution_count": 44,
   "metadata": {},
   "outputs": [
    {
     "name": "stdout",
     "output_type": "stream",
     "text": [
      "Microsoft Windows [Version 10.0.19042.804]\r\n",
      "(c) 2020 Microsoft Corporation. All rights reserved.\r\n",
      "\r\n",
      "(intelPython) G:\\Python and SQL>sqlite3 Fragma_Data.db\n",
      "\r\n",
      "(intelPython) G:\\Python and SQL>"
     ]
    }
   ],
   "source": [
    "%%cmd\n",
    "sqlite3 Fragma_Data.db"
   ]
  },
  {
   "cell_type": "markdown",
   "metadata": {},
   "source": [
    "# Create a Table"
   ]
  },
  {
   "cell_type": "markdown",
   "metadata": {},
   "source": [
    "    FD=sqlite3.connect('Fragma_Data.db')\n",
    "    cur=FD.cursor()\n",
    "    cur.execute('''CREATE TABLE MyTable(\n",
    "    ID INTEGER PRIMARY KEY AUTOINCREMENT,\n",
    "    cif_no varchar      (20) NOT NULL,\n",
    "    Debit_card varchar(16));''')\n",
    "    FD.commit()\n",
    "    FD.close() "
   ]
  },
  {
   "cell_type": "markdown",
   "metadata": {},
   "source": [
    "    Fragma_database=sqlite3.connect('Fragma_Data.db')\n",
    "    cur=Fragma_database.cursor()\n",
    "    cur.execute(\"INSERT INTO  MyTable (ID, cif_no,Debit_card) VALUES (101, '068974561','123456768989');\")\n",
    "    cur.execute(\"INSERT INTO  MyTable (ID, cif_no,Debit_card) VALUES (201, '067897945', '560889767867');\")\n",
    "    cur.execute(\"INSERT INTO  MyTable (ID, cif_no,Debit_card) VALUES (301, '052345689', '454578982324');\")\n",
    "    Fragma_database.commit()\n",
    "    Fragma_database.close()"
   ]
  },
  {
   "cell_type": "code",
   "execution_count": 45,
   "metadata": {},
   "outputs": [],
   "source": [
    "Fragma_database=sqlite3.connect('Fragma_Data.db')"
   ]
  },
  {
   "cell_type": "markdown",
   "metadata": {},
   "source": [
    "# Given table have debit card numbers.WAQ to mask the debit card numbers:"
   ]
  },
  {
   "cell_type": "code",
   "execution_count": 50,
   "metadata": {},
   "outputs": [],
   "source": [
    "sql= \"\"\"\n",
    "    SELECT Substr(Debit_card,1,4)||'XXXX' ||Substr(Debit_card,-4) as debit_card_No\n",
    "    FROM MyTable\n",
    "    \"\"\" "
   ]
  },
  {
   "cell_type": "code",
   "execution_count": 52,
   "metadata": {},
   "outputs": [
    {
     "name": "stdout",
     "output_type": "stream",
     "text": [
      "1234XXXX8989\n"
     ]
    }
   ],
   "source": [
    "cur=Fragma_database.cursor()\n",
    "cur.execute(sql)\n",
    "results = cur.fetchone() \n",
    "for record in results:  \n",
    "    print(record)"
   ]
  },
  {
   "cell_type": "code",
   "execution_count": 53,
   "metadata": {},
   "outputs": [
    {
     "name": "stdout",
     "output_type": "stream",
     "text": [
      "('1234XXXX8989',)\n",
      "('5608XXXX7867',)\n",
      "('4545XXXX2324',)\n"
     ]
    }
   ],
   "source": [
    "cur=Fragma_database.cursor()\n",
    "cur.execute(sql)\n",
    "results = cur.fetchall() \n",
    "for record in results:  \n",
    "    print(record)"
   ]
  },
  {
   "cell_type": "code",
   "execution_count": 63,
   "metadata": {},
   "outputs": [],
   "source": [
    "Fragma_database.close()"
   ]
  },
  {
   "cell_type": "code",
   "execution_count": null,
   "metadata": {},
   "outputs": [],
   "source": []
  }
 ],
 "metadata": {
  "kernelspec": {
   "display_name": "Python 3",
   "language": "python",
   "name": "python3"
  },
  "language_info": {
   "codemirror_mode": {
    "name": "ipython",
    "version": 3
   },
   "file_extension": ".py",
   "mimetype": "text/x-python",
   "name": "python",
   "nbconvert_exporter": "python",
   "pygments_lexer": "ipython3",
   "version": "3.7.8"
  }
 },
 "nbformat": 4,
 "nbformat_minor": 4
}
